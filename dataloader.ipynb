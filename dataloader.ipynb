{
 "cells": [
  {
   "cell_type": "code",
   "execution_count": 3,
   "metadata": {},
   "outputs": [],
   "source": [
    "import os\n",
    "from PIL import Image\n",
    "from torch.utils.data import Dataset\n",
    "from torchvision import transforms\n",
    "\n",
    "class CustomDataset(Dataset):\n",
    "    def __init__(self, root_dir, transform=None):\n",
    "        \"\"\"\n",
    "        初始化数据集。\n",
    "        :param root_dir: 包含图像文件的根目录。\n",
    "        :param transform: 应用于图像的可选变换。\n",
    "        \"\"\"\n",
    "        self.root_dir = os.path.join(root_dir, '')\n",
    "        self.transform = transform\n",
    "        self.images = []\n",
    "        self.labels = []\n",
    "\n",
    "        # 遍历目录，收集图像路径和标签\n",
    "        for filename in os.listdir(root_dir):\n",
    "            if filename.endswith('.json'):  # 假设图像文件后缀为.jpg\n",
    "                img_path = os.path.join('/media/liushilei/DatAset/workspace/test/torch/data/nyc/cut_data', os.path.basename(filename).split('.')[0] + '.png')\n",
    "                filename = os.path.join('/media/liushilei/DatAset/workspace/test/torch/data/labels/annotation_seq', filename)\n",
    "                self.images.append(img_path)\n",
    "                self.labels.append(filename)\n",
    "\n",
    "    def __len__(self):\n",
    "        \"\"\"\n",
    "        返回数据集中的图像数量。\n",
    "        \"\"\"\n",
    "        return len(self.images)\n",
    "\n",
    "    def __getitem__(self, idx):\n",
    "        \"\"\"\n",
    "        根据索引获取一个图像和它的标签。\n",
    "        \"\"\"\n",
    "        image_path = self.images[idx]\n",
    "        image = Image.open(image_path).convert('RGB')  # 确保图像是RGB格式\n",
    "\n",
    "        if self.transform:\n",
    "            image = self.transform(image)\n",
    "\n",
    "        label = self.labels[idx]\n",
    "        return image, label\n",
    "\n",
    "# 创建数据集的变换\n",
    "transform = transforms.Compose([\n",
    "    transforms.Resize((256, 256)),  # 调整图像大小\n",
    "    transforms.ToTensor(),  # 转换为Tensor\n",
    "])\n",
    "\n",
    "# 创建数据集实例\n",
    "dataset = CustomDataset(root_dir='data/labels/annotation_seq', transform=transform)\n",
    "\n",
    "# 现在可以使用PyTorch的DataLoader来加载数据集\n",
    "from torch.utils.data import DataLoader\n",
    "\n",
    "data_loader = DataLoader(dataset, batch_size=32, shuffle=True)"
   ]
  },
  {
   "cell_type": "markdown",
   "metadata": {},
   "source": [
    "### 可视化地图"
   ]
  },
  {
   "cell_type": "code",
   "execution_count": null,
   "metadata": {},
   "outputs": [],
   "source": [
    "import json, os\n",
    "from PIL import Image, ImageDraw\n",
    "import matplotlib.pyplot as plt\n",
    "\n",
    "def draw_lines_on_image(image_path, json_path):\n",
    "    # 读取图像\n",
    "    image = Image.open(image_path)\n",
    "    draw = ImageDraw.Draw(image)\n",
    "\n",
    "    # 读取JSON文件\n",
    "    with open(json_path, 'r') as file:\n",
    "        data = json.load(file)\n",
    "\n",
    "    # 遍历JSON中的每个元素\n",
    "    for item in data:\n",
    "        seq = item.get(\"seq\", [])\n",
    "        # 将seq中的点连成线\n",
    "        if len(seq) > 1:\n",
    "            for i in range(len(seq) - 1):\n",
    "                start_point = tuple(seq[i])\n",
    "                end_point = tuple(seq[i + 1])\n",
    "                draw.line([start_point, end_point], fill='red', width=3)\n",
    "\n",
    "    # 可视化图像\n",
    "    plt.imshow(image)\n",
    "    plt.axis('off')  # 不显示坐标轴\n",
    "    plt.show()\n",
    "\n",
    "# 示例用法\n",
    "json_path = '/media/liushilei/DatAset/workspace/test/torch/data/labels/annotation_seq/002232_34.json'  # 替换为你的JSON文件路径\n",
    "image_path = os.path.join('/media/liushilei/DatAset/workspace/test/torch/data/nyc/cut_data', os.path.basename(json_path).split('.')[0] + '.png')  # 替换为你的图像路径\n",
    "\n",
    "draw_lines_on_image(image_path, json_path)"
   ]
  },
  {
   "cell_type": "markdown",
   "metadata": {},
   "source": [
    "### 加载模型"
   ]
  },
  {
   "cell_type": "code",
   "execution_count": null,
   "metadata": {},
   "outputs": [],
   "source": []
  }
 ],
 "metadata": {
  "kernelspec": {
   "display_name": "maptr",
   "language": "python",
   "name": "python3"
  },
  "language_info": {
   "codemirror_mode": {
    "name": "ipython",
    "version": 3
   },
   "file_extension": ".py",
   "mimetype": "text/x-python",
   "name": "python",
   "nbconvert_exporter": "python",
   "pygments_lexer": "ipython3",
   "version": "3.8.19"
  }
 },
 "nbformat": 4,
 "nbformat_minor": 2
}
